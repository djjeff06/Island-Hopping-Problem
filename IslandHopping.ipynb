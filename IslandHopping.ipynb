{
 "cells": [
  {
   "cell_type": "code",
   "execution_count": 15,
   "id": "d5abe9ff",
   "metadata": {},
   "outputs": [],
   "source": [
    "def hw2_4(islandList):\n",
    "    #set variables we need later\n",
    "    traversedIsland = [1]\n",
    "    currentIsland = 1\n",
    "    smallestConnectingIsland = 1\n",
    "    indexSafestIsland = None\n",
    "    exit = False\n",
    "    found = True\n",
    "    firstInstance = True\n",
    "    \n",
    "    #traversing the islands\n",
    "    while(not exit):\n",
    "        firstInstance = True\n",
    "        for i in range(0,len(islandList)):\n",
    "            #search for all instances of current island and store the smallest connecting island in our variable\n",
    "            if islandList[i][0] == currentIsland:\n",
    "                if islandList[i][1] not in traversedIsland:\n",
    "                    if firstInstance:\n",
    "                        smallestConnectingIsland = islandList[i][1]\n",
    "                        indexSafestIsland = i\n",
    "                        firstInstance = False\n",
    "                    if not firstInstance and smallestConnectingIsland > islandList[i][1] and islandList[i][1] > currentIsland:\n",
    "                        smallestConnectingIsland = islandList[i][1]\n",
    "                        indexSafestIsland = i\n",
    "            elif islandList[i][1] == currentIsland:\n",
    "                if islandList[i][0] not in traversedIsland:\n",
    "                    if firstInstance:\n",
    "                        smallestConnectingIsland = islandList[i][0]\n",
    "                        indexSafestIsland = i\n",
    "                        firstInstance = False\n",
    "                    if not firstInstance and smallestConnectingIsland > islandList[i][0] and islandList[i][0] > currentIsland:\n",
    "                        smallestConnectingIsland = islandList[i][0]\n",
    "                        indexSafestIsland = i\n",
    "        if currentIsland == islandList[indexSafestIsland][0]:\n",
    "            currentIsland = islandList[indexSafestIsland][1]\n",
    "            traversedIsland.append(islandList[indexSafestIsland][1])\n",
    "        elif currentIsland == islandList[indexSafestIsland][1]:\n",
    "            currentIsland = islandList[indexSafestIsland][0]\n",
    "            traversedIsland.append(islandList[indexSafestIsland][0])\n",
    "        found = True\n",
    "        for i in range(0,len(islandList)):\n",
    "            if islandList[i][0] == currentIsland:\n",
    "                if islandList[i][1] not in traversedIsland:\n",
    "                    found = False\n",
    "            elif islandList[i][1] == currentIsland:\n",
    "                if islandList[i][0] not in traversedIsland:\n",
    "                    found = False\n",
    "        if found:\n",
    "            exit = True\n",
    "    return traversedIsland"
   ]
  },
  {
   "cell_type": "code",
   "execution_count": 17,
   "id": "ee6b61e5",
   "metadata": {},
   "outputs": [
    {
     "name": "stdout",
     "output_type": "stream",
     "text": [
      "[1, 2, 4]\n",
      "[1, 4, 6, 3, 9, 8]\n"
     ]
    }
   ],
   "source": [
    "print(hw2_4([(1,2),(1,3),(1,4),(2,4)]))\n",
    "print(hw2_4([(4,1),(6,1),(4,6),(3,9),(5,7),(7,2),(10,1),(8,9),(3,6)]))"
   ]
  }
 ],
 "metadata": {
  "kernelspec": {
   "display_name": "Python 3 (ipykernel)",
   "language": "python",
   "name": "python3"
  },
  "language_info": {
   "codemirror_mode": {
    "name": "ipython",
    "version": 3
   },
   "file_extension": ".py",
   "mimetype": "text/x-python",
   "name": "python",
   "nbconvert_exporter": "python",
   "pygments_lexer": "ipython3",
   "version": "3.9.12"
  }
 },
 "nbformat": 4,
 "nbformat_minor": 5
}
